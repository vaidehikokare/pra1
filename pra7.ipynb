{
 "cells": [
  {
   "cell_type": "code",
   "execution_count": 1,
   "id": "7e4167aa-bcee-46cc-82f3-2ba7f8490869",
   "metadata": {},
   "outputs": [
    {
     "name": "stderr",
     "output_type": "stream",
     "text": [
      "MultinomialHMM has undergone major changes. The previous version was implementing a CategoricalHMM (a special case of MultinomialHMM). This new implementation follows the standard definition for a Multinomial distribution (e.g. as in https://en.wikipedia.org/wiki/Multinomial_distribution). See these issues for details:\n",
      "https://github.com/hmmlearn/hmmlearn/issues/335\n",
      "https://github.com/hmmlearn/hmmlearn/issues/340\n"
     ]
    },
    {
     "name": "stdout",
     "output_type": "stream",
     "text": [
      "Transition matrix:\n",
      " [[0.26685518 0.73314482]\n",
      " [0.98941115 0.01058885]]\n",
      "Emission matrix:\n",
      " [[1.]\n",
      " [1.]]\n",
      "Start probabilities:\n",
      " [8.26211692e-04 9.99173788e-01]\n",
      "Input sequence: ATCGT\n",
      "Predicted states: NGNGN\n"
     ]
    }
   ],
   "source": [
    "import numpy as np\n",
    "from hmmlearn import hmm\n",
    "from sklearn.preprocessing import LabelEncoder\n",
    "\n",
    "# Sample DNA sequences (observations) and labels (states)\n",
    "sequences = ['ATGCG', 'CGTGC', 'ATTCG']  # Example DNA sequences\n",
    "states = [['G', 'G', 'N', 'N', 'G'], ['N', 'N', 'G', 'G', 'N'], ['G', 'N', 'N', 'G', 'G']]  # G=Gene, N=Non-Gene\n",
    "\n",
    "# Define possible observations and states\n",
    "observations = list(\"ACGT\")\n",
    "hidden_states = ['G', 'N']\n",
    "\n",
    "# Encode observations and states numerically\n",
    "obs_encoder = LabelEncoder().fit(observations)\n",
    "state_encoder = LabelEncoder().fit(hidden_states)\n",
    "\n",
    "# Encode all sequences\n",
    "X = np.concatenate([obs_encoder.transform(list(seq)) for seq in sequences]).reshape(-1, 1)\n",
    "lengths = [len(seq) for seq in sequences]\n",
    "Y = np.concatenate([state_encoder.transform(label_seq) for label_seq in states])\n",
    "\n",
    "# Initialize and train HMM using MLE\n",
    "model = hmm.MultinomialHMM(n_components=len(hidden_states), n_iter=100, tol=0.01)\n",
    "model.fit(X, lengths)\n",
    "\n",
    "# Print learned parameters\n",
    "print(\"Transition matrix:\\n\", model.transmat_)\n",
    "print(\"Emission matrix:\\n\", model.emissionprob_)\n",
    "print(\"Start probabilities:\\n\", model.startprob_)\n",
    "\n",
    "# Predict hidden states for a new sequence\n",
    "test_seq = 'ATCGT'\n",
    "encoded_seq = obs_encoder.transform(list(test_seq)).reshape(-1, 1)\n",
    "logprob, hidden = model.decode(encoded_seq, algorithm=\"viterbi\")\n",
    "decoded_states = state_encoder.inverse_transform(hidden)\n",
    "\n",
    "print(\"Input sequence:\", test_seq)\n",
    "print(\"Predicted states:\", ''.join(decoded_states))"
   ]
  },
  {
   "cell_type": "code",
   "execution_count": null,
   "id": "f8df6477-6ce0-4a94-8cf4-fb4aa06cb609",
   "metadata": {},
   "outputs": [],
   "source": []
  }
 ],
 "metadata": {
  "kernelspec": {
   "display_name": "Python 3 (ipykernel)",
   "language": "python",
   "name": "python3"
  },
  "language_info": {
   "codemirror_mode": {
    "name": "ipython",
    "version": 3
   },
   "file_extension": ".py",
   "mimetype": "text/x-python",
   "name": "python",
   "nbconvert_exporter": "python",
   "pygments_lexer": "ipython3",
   "version": "3.12.7"
  }
 },
 "nbformat": 4,
 "nbformat_minor": 5
}
