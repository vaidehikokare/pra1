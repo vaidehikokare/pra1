{
 "cells": [
  {
   "cell_type": "code",
   "execution_count": 115,
   "id": "3367a691-2859-4a2e-811b-3183cbf0f363",
   "metadata": {},
   "outputs": [],
   "source": [
    "import numpy as np\n",
    "import matplotlib.pyplot as plt\n",
    "from sklearn.datasets import load_digits\n",
    "from sklearn.mixture import GaussianMixture\n",
    "from sklearn.decomposition import PCA\n",
    "from sklearn.metrics import accuracy_score\n",
    "from sklearn.preprocessing import StandardScaler\n",
    "from scipy.stats import mode"
   ]
  },
  {
   "cell_type": "code",
   "execution_count": 117,
   "id": "5b21f590-fe7f-4367-9894-c39f130663da",
   "metadata": {},
   "outputs": [],
   "source": [
    "from sklearn.datasets import load_digits\n",
    "digits=load_digits()\n",
    "X=digits.data\n",
    "y=digits.target"
   ]
  },
  {
   "cell_type": "code",
   "execution_count": 119,
   "id": "c7c206fe-c5d2-44ef-b112-71fa0621a527",
   "metadata": {},
   "outputs": [],
   "source": [
    "scaler = StandardScaler()\n",
    "X_scaled = scaler.fit_transform(X)"
   ]
  },
  {
   "cell_type": "code",
   "execution_count": 121,
   "id": "cc91aff6-8565-4348-b5e6-5daebe4e26f9",
   "metadata": {},
   "outputs": [],
   "source": [
    "n_components = 10 \n",
    "ggm1 =GaussianMixture(n_components=n_components,covariance_type='full',random_state=42)"
   ]
  },
  {
   "cell_type": "code",
   "execution_count": 123,
   "id": "c807a57d-6427-4213-abaa-862eda45a985",
   "metadata": {},
   "outputs": [],
   "source": [
    "ggm1.fit(X_scaled)\n",
    "y_pred = ggm1.predict(X_scaled)"
   ]
  },
  {
   "cell_type": "code",
   "execution_count": 131,
   "id": "f3578bf9-a2cb-4213-b2bd-2b860a874ddc",
   "metadata": {},
   "outputs": [],
   "source": [
    "def create_cluster(y_true,y_pred):\n",
    "    new_label=np.zeros_like(y_pred)\n",
    "    for i in range(n_components):\n",
    "        mask= (y_pred==i)\n",
    "        if np.any(mask):\n",
    "            new_label[mask]=mode(y_true[mask])[0]\n",
    "    return new_label         "
   ]
  },
  {
   "cell_type": "code",
   "execution_count": 133,
   "id": "e27f19ae-0e37-4fe6-997c-0de2ca0b89b4",
   "metadata": {},
   "outputs": [],
   "source": [
    "y_aligned=create_cluster(y,y_pred)"
   ]
  },
  {
   "cell_type": "code",
   "execution_count": 135,
   "id": "49b341d0-f243-4c32-afd1-d2e77dac4a65",
   "metadata": {},
   "outputs": [
    {
     "name": "stdout",
     "output_type": "stream",
     "text": [
      "Clustering Accuracy (after alignment): 0.68\n"
     ]
    }
   ],
   "source": [
    "accuracy = accuracy_score(y, y_aligned)\n",
    "print(f\"Clustering Accuracy (after alignment): {accuracy:.2f}\")"
   ]
  },
  {
   "cell_type": "code",
   "execution_count": null,
   "id": "1a33c13e-d6b3-4232-9b0d-06962ea10a7b",
   "metadata": {},
   "outputs": [],
   "source": []
  }
 ],
 "metadata": {
  "kernelspec": {
   "display_name": "Python 3 (ipykernel)",
   "language": "python",
   "name": "python3"
  },
  "language_info": {
   "codemirror_mode": {
    "name": "ipython",
    "version": 3
   },
   "file_extension": ".py",
   "mimetype": "text/x-python",
   "name": "python",
   "nbconvert_exporter": "python",
   "pygments_lexer": "ipython3",
   "version": "3.12.7"
  }
 },
 "nbformat": 4,
 "nbformat_minor": 5
}
