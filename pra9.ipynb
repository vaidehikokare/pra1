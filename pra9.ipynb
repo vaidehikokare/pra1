{
 "cells": [
  {
   "cell_type": "code",
   "execution_count": 3,
   "id": "e34ed445-2c94-4ef0-8a8f-24698adc8695",
   "metadata": {},
   "outputs": [],
   "source": [
    "import numpy as np\n",
    "import cv2\n",
    "import matplotlib.pyplot as plt\n",
    "from sklearn.model_selection import train_test_split\n",
    "from sklearn.neighbors import KNeighborsClassifier\n",
    "from sklearn.metrics import accuracy_score"
   ]
  },
  {
   "cell_type": "code",
   "execution_count": 11,
   "id": "42563f3f-6e23-45e8-9735-effe9a99a08a",
   "metadata": {},
   "outputs": [],
   "source": [
    "def create_blank_image(size=64):\n",
    "    return np.zeros((size,size),dtype=np.uint8)"
   ]
  },
  {
   "cell_type": "code",
   "execution_count": 17,
   "id": "60052152-5c80-40fb-8dfc-0e1afaee8541",
   "metadata": {},
   "outputs": [],
   "source": [
    "def create_circle():\n",
    "    img=create_blank_image()\n",
    "    cv2.circle(img,(32,32),20,255,-1)\n",
    "    return img"
   ]
  },
  {
   "cell_type": "code",
   "execution_count": 21,
   "id": "842c95df-cfd6-40e7-a792-5efab626a914",
   "metadata": {},
   "outputs": [],
   "source": [
    "def create_square():\n",
    "    img=create_blank_image()\n",
    "    cv2.rectangle(img,(20,20),(44,44),255,-1)\n",
    "    return img"
   ]
  },
  {
   "cell_type": "code",
   "execution_count": 25,
   "id": "0dd79eab-f18a-42c1-b1a3-23e6a5e4f59e",
   "metadata": {},
   "outputs": [],
   "source": [
    "def create_trainge():\n",
    "    img=create_blank_image()\n",
    "    pts=np.array([[12,34],[34,56],[56,56]])\n",
    "    cv2.fillPoly(img,[pts],255)\n",
    "    return img"
   ]
  },
  {
   "cell_type": "code",
   "execution_count": 41,
   "id": "33abb760-c58d-49b3-8073-bb996cb25695",
   "metadata": {},
   "outputs": [],
   "source": [
    "def genarate_dataset(sample):\n",
    "    X=[]\n",
    "    y=[]\n",
    "    for i in range(sample):\n",
    "        X.append(create_circle().flatten())\n",
    "        y.append(0)\n",
    "\n",
    "        X.append(create_square().flatten())\n",
    "        y.append(1)\n",
    "        \n",
    "        X.append(create_trainge().flatten())\n",
    "        y.append(3)\n",
    "    return np.array(X),np.array(y)    \n",
    "        "
   ]
  },
  {
   "cell_type": "code",
   "execution_count": 43,
   "id": "eabeabae-2201-4f18-ba35-67f56a74f452",
   "metadata": {},
   "outputs": [],
   "source": [
    "X, y = genarate_dataset(200)\n",
    "X_train, X_test, y_train, y_test = train_test_split(X, y, test_size=0.3, random_state=42)"
   ]
  },
  {
   "cell_type": "code",
   "execution_count": 45,
   "id": "c625e183-ec1d-47fc-b771-fa58b2cfccb7",
   "metadata": {},
   "outputs": [],
   "source": [
    "knn = KNeighborsClassifier(n_neighbors=3)\n",
    "knn.fit(X_train, y_train)\n",
    "y_pred = knn.predict(X_test)"
   ]
  },
  {
   "cell_type": "code",
   "execution_count": 47,
   "id": "32a079d6-1b7b-488d-b6d2-ff1950601297",
   "metadata": {},
   "outputs": [
    {
     "name": "stdout",
     "output_type": "stream",
     "text": [
      "KNN Classification Accuracy: 100.00%\n"
     ]
    }
   ],
   "source": [
    "acc = accuracy_score(y_test, y_pred)\n",
    "print(f\"KNN Classification Accuracy: {acc * 100:.2f}%\")"
   ]
  },
  {
   "cell_type": "code",
   "execution_count": null,
   "id": "99b1f39e-a941-4a34-9ad7-4c1680189c2c",
   "metadata": {},
   "outputs": [],
   "source": []
  }
 ],
 "metadata": {
  "kernelspec": {
   "display_name": "Python 3 (ipykernel)",
   "language": "python",
   "name": "python3"
  },
  "language_info": {
   "codemirror_mode": {
    "name": "ipython",
    "version": 3
   },
   "file_extension": ".py",
   "mimetype": "text/x-python",
   "name": "python",
   "nbconvert_exporter": "python",
   "pygments_lexer": "ipython3",
   "version": "3.12.7"
  }
 },
 "nbformat": 4,
 "nbformat_minor": 5
}
